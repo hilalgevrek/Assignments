{
 "cells": [
  {
   "cell_type": "code",
   "execution_count": 8,
   "id": "1b746649",
   "metadata": {},
   "outputs": [],
   "source": [
    "import pandas as pd\n",
    "import numpy as np\n",
    "from scipy import stats\n",
    "import seaborn as sns\n",
    "import matplotlib.pyplot as plt"
   ]
  },
  {
   "cell_type": "markdown",
   "id": "2ad3ffc2",
   "metadata": {},
   "source": [
    "EXERCISE 1. The hourly wages in a particular industry are normally distributed with mean 13.20 dollar and standard deviation 2.50 dollar. A company in this industry employs 40 workers, paying them an average of $12.20 per hour. Can this company be accused of paying substandard wages? Use an α = .01 level test. (Wackerly, Ex.10.18) \n",
    "\n",
    "CHECK: statistic: -2.5298221281347035, pvalue= 0.005706018193000826"
   ]
  },
  {
   "cell_type": "raw",
   "id": "5572f4fa",
   "metadata": {},
   "source": [
    "H0: μ = 13.20 (This company paying standard level wages)\n",
    "H1: μ < 13.20 (This company paying substandard wages) (Left-Tailed Test)"
   ]
  },
  {
   "cell_type": "code",
   "execution_count": 9,
   "id": "319567fa",
   "metadata": {},
   "outputs": [],
   "source": [
    "μ = 13.20\n",
    "σ = 2.50\n",
    "n = 40 \n",
    "x = 12.20\n",
    "α = 0.01  # Type I Error-Significance Level\n",
    "# 1- α  # Confidence Level"
   ]
  },
  {
   "cell_type": "raw",
   "id": "1867a1ff",
   "metadata": {},
   "source": [
    "σ_xi =  σ/√n"
   ]
  },
  {
   "cell_type": "code",
   "execution_count": 10,
   "id": "355c36ba",
   "metadata": {},
   "outputs": [
    {
     "data": {
      "text/plain": [
       "0.3952847075210474"
      ]
     },
     "execution_count": 10,
     "metadata": {},
     "output_type": "execute_result"
    }
   ],
   "source": [
    "σ_xi = σ/(np.sqrt(n))\n",
    "σ_xi"
   ]
  },
  {
   "cell_type": "code",
   "execution_count": 11,
   "id": "46f1483d",
   "metadata": {},
   "outputs": [
    {
     "data": {
      "text/plain": [
       "-2.5298221281347035"
      ]
     },
     "execution_count": 11,
     "metadata": {},
     "output_type": "execute_result"
    }
   ],
   "source": [
    "z_score = (x-μ)/(σ_xi)\n",
    "z_score"
   ]
  },
  {
   "cell_type": "raw",
   "id": "da21b70d",
   "metadata": {},
   "source": [
    "P(z_score < zα) = 0.01\n",
    "z_score = -2.52\n",
    "zα = -2.33\n",
    "\n",
    "-2.52 < -2,33 => REJECT H0\n",
    "We have sufficient evidence to say that this company of paying substandard wages."
   ]
  },
  {
   "cell_type": "code",
   "execution_count": 12,
   "id": "5f50bd3e",
   "metadata": {},
   "outputs": [
    {
     "data": {
      "text/plain": [
       "0.005706018193000826"
      ]
     },
     "execution_count": 12,
     "metadata": {},
     "output_type": "execute_result"
    }
   ],
   "source": [
    "p = stats.norm.sf(abs(z_score))\n",
    "p"
   ]
  },
  {
   "cell_type": "raw",
   "id": "d7aafc33",
   "metadata": {},
   "source": [
    "If the \"p value < our significance level\", we can reject the null hypothesis. \n",
    "p value = 0.0057\n",
    "α = 0.01\n",
    "p < α => REJECT H0"
   ]
  },
  {
   "cell_type": "code",
   "execution_count": 39,
   "id": "7564db81",
   "metadata": {},
   "outputs": [
    {
     "name": "stdout",
     "output_type": "stream",
     "text": [
      "REJECT Null Hypothesis\n"
     ]
    }
   ],
   "source": [
    "if p<α:\n",
    "    print(\"REJECT Null Hypothesis\")\n",
    "else:\n",
    "    print(\"DO NOT REJECT Null Hypothesis\")"
   ]
  },
  {
   "cell_type": "markdown",
   "id": "a5d00706",
   "metadata": {},
   "source": [
    "EXERCISE 2.Shear strength measurements derived from unconfined compression tests for two types of soils gave the results shown in the following document (measurements in tons per square foot). Do the soils appear to differ with respect to average shear strength, at the 1% significance level?\n",
    "\n",
    "CHECK: statistic: 5.1681473319343345, pvalue= 2.593228732352821e-06 "
   ]
  },
  {
   "cell_type": "raw",
   "id": "93d842b8",
   "metadata": {},
   "source": [
    "H0: μSoil1 = μSoil2 (Floors do not differ)\n",
    "H1: μSoil1 ≠ μSoil2 (Floors differ from each other) (Two-Tailed Test)"
   ]
  },
  {
   "cell_type": "raw",
   "id": "d6899d81",
   "metadata": {},
   "source": [
    "α = 0.01 (Type I Error-Significance Level)\n",
    "α/2 = 0.005\n",
    "1- α/2 = 0.995 (Confidence Level)"
   ]
  },
  {
   "cell_type": "code",
   "execution_count": 14,
   "id": "1f763237",
   "metadata": {},
   "outputs": [],
   "source": [
    "soil = pd.read_csv(\"soil.csv\", sep=\",\")"
   ]
  },
  {
   "cell_type": "code",
   "execution_count": 15,
   "id": "fbd8b784",
   "metadata": {},
   "outputs": [
    {
     "data": {
      "text/html": [
       "<div>\n",
       "<style scoped>\n",
       "    .dataframe tbody tr th:only-of-type {\n",
       "        vertical-align: middle;\n",
       "    }\n",
       "\n",
       "    .dataframe tbody tr th {\n",
       "        vertical-align: top;\n",
       "    }\n",
       "\n",
       "    .dataframe thead th {\n",
       "        text-align: right;\n",
       "    }\n",
       "</style>\n",
       "<table border=\"1\" class=\"dataframe\">\n",
       "  <thead>\n",
       "    <tr style=\"text-align: right;\">\n",
       "      <th></th>\n",
       "      <th>Soil1</th>\n",
       "      <th>Soil2</th>\n",
       "    </tr>\n",
       "  </thead>\n",
       "  <tbody>\n",
       "    <tr>\n",
       "      <th>0</th>\n",
       "      <td>1.442</td>\n",
       "      <td>1.364</td>\n",
       "    </tr>\n",
       "    <tr>\n",
       "      <th>1</th>\n",
       "      <td>1.943</td>\n",
       "      <td>1.878</td>\n",
       "    </tr>\n",
       "    <tr>\n",
       "      <th>2</th>\n",
       "      <td>1.110</td>\n",
       "      <td>1.337</td>\n",
       "    </tr>\n",
       "    <tr>\n",
       "      <th>3</th>\n",
       "      <td>1.912</td>\n",
       "      <td>1.828</td>\n",
       "    </tr>\n",
       "    <tr>\n",
       "      <th>4</th>\n",
       "      <td>1.553</td>\n",
       "      <td>1.371</td>\n",
       "    </tr>\n",
       "  </tbody>\n",
       "</table>\n",
       "</div>"
      ],
      "text/plain": [
       "   Soil1  Soil2\n",
       "0  1.442  1.364\n",
       "1  1.943  1.878\n",
       "2  1.110  1.337\n",
       "3  1.912  1.828\n",
       "4  1.553  1.371"
      ]
     },
     "execution_count": 15,
     "metadata": {},
     "output_type": "execute_result"
    }
   ],
   "source": [
    "soil.head()"
   ]
  },
  {
   "cell_type": "code",
   "execution_count": 16,
   "id": "158aeda1",
   "metadata": {},
   "outputs": [
    {
     "name": "stdout",
     "output_type": "stream",
     "text": [
      "<class 'pandas.core.frame.DataFrame'>\n",
      "RangeIndex: 35 entries, 0 to 34\n",
      "Data columns (total 2 columns):\n",
      " #   Column  Non-Null Count  Dtype  \n",
      "---  ------  --------------  -----  \n",
      " 0   Soil1   30 non-null     float64\n",
      " 1   Soil2   35 non-null     float64\n",
      "dtypes: float64(2)\n",
      "memory usage: 688.0 bytes\n"
     ]
    }
   ],
   "source": [
    "soil.info()"
   ]
  },
  {
   "cell_type": "code",
   "execution_count": 17,
   "id": "c25acfaa",
   "metadata": {},
   "outputs": [
    {
     "data": {
      "text/plain": [
       "(35, 2)"
      ]
     },
     "execution_count": 17,
     "metadata": {},
     "output_type": "execute_result"
    }
   ],
   "source": [
    "soil.shape"
   ]
  },
  {
   "cell_type": "code",
   "execution_count": 18,
   "id": "3d2ac258",
   "metadata": {},
   "outputs": [
    {
     "data": {
      "text/html": [
       "<div>\n",
       "<style scoped>\n",
       "    .dataframe tbody tr th:only-of-type {\n",
       "        vertical-align: middle;\n",
       "    }\n",
       "\n",
       "    .dataframe tbody tr th {\n",
       "        vertical-align: top;\n",
       "    }\n",
       "\n",
       "    .dataframe thead th {\n",
       "        text-align: right;\n",
       "    }\n",
       "</style>\n",
       "<table border=\"1\" class=\"dataframe\">\n",
       "  <thead>\n",
       "    <tr style=\"text-align: right;\">\n",
       "      <th></th>\n",
       "      <th>Soil1</th>\n",
       "      <th>Soil2</th>\n",
       "    </tr>\n",
       "  </thead>\n",
       "  <tbody>\n",
       "    <tr>\n",
       "      <th>mean</th>\n",
       "      <td>1.691800</td>\n",
       "      <td>1.417114</td>\n",
       "    </tr>\n",
       "    <tr>\n",
       "      <th>median</th>\n",
       "      <td>1.675000</td>\n",
       "      <td>1.379000</td>\n",
       "    </tr>\n",
       "    <tr>\n",
       "      <th>max</th>\n",
       "      <td>2.054000</td>\n",
       "      <td>1.878000</td>\n",
       "    </tr>\n",
       "    <tr>\n",
       "      <th>min</th>\n",
       "      <td>1.110000</td>\n",
       "      <td>1.053000</td>\n",
       "    </tr>\n",
       "    <tr>\n",
       "      <th>std</th>\n",
       "      <td>0.206903</td>\n",
       "      <td>0.219184</td>\n",
       "    </tr>\n",
       "    <tr>\n",
       "      <th>var</th>\n",
       "      <td>0.042809</td>\n",
       "      <td>0.048042</td>\n",
       "    </tr>\n",
       "  </tbody>\n",
       "</table>\n",
       "</div>"
      ],
      "text/plain": [
       "           Soil1     Soil2\n",
       "mean    1.691800  1.417114\n",
       "median  1.675000  1.379000\n",
       "max     2.054000  1.878000\n",
       "min     1.110000  1.053000\n",
       "std     0.206903  0.219184\n",
       "var     0.042809  0.048042"
      ]
     },
     "execution_count": 18,
     "metadata": {},
     "output_type": "execute_result"
    }
   ],
   "source": [
    "soil.agg([np.mean, np.median, max, min, np.std, np.var])"
   ]
  },
  {
   "cell_type": "code",
   "execution_count": 19,
   "id": "19472b7b",
   "metadata": {},
   "outputs": [],
   "source": [
    "from PIL import Image"
   ]
  },
  {
   "cell_type": "code",
   "execution_count": 20,
   "id": "e33b4eb9",
   "metadata": {},
   "outputs": [
    {
     "data": {
      "image/png": "[encoded data removed]",
      "text/plain": [
       "<PIL.PngImagePlugin.PngImageFile image mode=P size=328x150 at 0x1AF1BAC55B0>"
      ]
     },
     "execution_count": 20,
     "metadata": {},
     "output_type": "execute_result"
    }
   ],
   "source": [
    "image = Image.open('formula.png')\n",
    "image"
   ]
  },
  {
   "cell_type": "code",
   "execution_count": 21,
   "id": "fbe3ec82",
   "metadata": {},
   "outputs": [
    {
     "data": {
      "text/plain": [
       "0     1.442\n",
       "1     1.943\n",
       "2     1.110\n",
       "3     1.912\n",
       "4     1.553\n",
       "5     1.641\n",
       "6     1.499\n",
       "7     1.347\n",
       "8     1.685\n",
       "9     1.578\n",
       "10    1.866\n",
       "11    1.653\n",
       "12    1.665\n",
       "13    1.640\n",
       "14    1.976\n",
       "15    1.754\n",
       "16    1.589\n",
       "17    1.976\n",
       "18    1.863\n",
       "19    1.932\n",
       "20    1.570\n",
       "21    1.613\n",
       "22    2.054\n",
       "23    1.550\n",
       "24    1.714\n",
       "25    1.896\n",
       "26    1.737\n",
       "27    1.740\n",
       "28    1.708\n",
       "29    1.548\n",
       "Name: Soil1, dtype: float64"
      ]
     },
     "execution_count": 21,
     "metadata": {},
     "output_type": "execute_result"
    }
   ],
   "source": [
    "list1 = soil.Soil1.dropna()\n",
    "list1"
   ]
  },
  {
   "cell_type": "code",
   "execution_count": 22,
   "id": "6c169ef1",
   "metadata": {},
   "outputs": [
    {
     "data": {
      "text/plain": [
       "0     1.364\n",
       "1     1.878\n",
       "2     1.337\n",
       "3     1.828\n",
       "4     1.371\n",
       "5     1.428\n",
       "6     1.119\n",
       "7     1.373\n",
       "8     1.589\n",
       "9     1.714\n",
       "10    1.260\n",
       "11    1.492\n",
       "12    1.395\n",
       "13    1.778\n",
       "14    1.611\n",
       "15    1.202\n",
       "16    1.542\n",
       "17    1.094\n",
       "18    1.557\n",
       "19    1.053\n",
       "20    1.183\n",
       "21    1.367\n",
       "22    1.144\n",
       "23    1.151\n",
       "24    1.561\n",
       "25    1.192\n",
       "26    1.489\n",
       "27    1.379\n",
       "28    1.501\n",
       "29    1.277\n",
       "30    1.593\n",
       "31    1.172\n",
       "32    1.510\n",
       "33    1.740\n",
       "34    1.355\n",
       "Name: Soil2, dtype: float64"
      ]
     },
     "execution_count": 22,
     "metadata": {},
     "output_type": "execute_result"
    }
   ],
   "source": [
    "list2 = soil.Soil2.dropna()\n",
    "list2"
   ]
  },
  {
   "cell_type": "code",
   "execution_count": 23,
   "id": "4fdc142e",
   "metadata": {},
   "outputs": [],
   "source": [
    "from statsmodels.stats import weightstats as stests"
   ]
  },
  {
   "cell_type": "code",
   "execution_count": 24,
   "id": "89ded54f",
   "metadata": {},
   "outputs": [
    {
     "name": "stdout",
     "output_type": "stream",
     "text": [
      "5.1681473319343345\n",
      "2.3642590643591074e-07\n"
     ]
    }
   ],
   "source": [
    "ztest ,pval = stests.ztest(list1, list2, value=0, alternative='two-sided')\n",
    "print(float(ztest))\n",
    "print(float(pval))  # stats.norm.sf(abs(ztest))*2"
   ]
  },
  {
   "cell_type": "code",
   "execution_count": 27,
   "id": "b70495c4",
   "metadata": {},
   "outputs": [
    {
     "data": {
      "text/plain": [
       "Ttest_indResult(statistic=5.1681473319343345, pvalue=2.593228732352821e-06)"
      ]
     },
     "execution_count": 27,
     "metadata": {},
     "output_type": "execute_result"
    }
   ],
   "source": [
    "test = stats.ttest_ind(list1, list2)\n",
    "test"
   ]
  },
  {
   "cell_type": "code",
   "execution_count": 28,
   "id": "58847496",
   "metadata": {},
   "outputs": [
    {
     "data": {
      "text/plain": [
       "5.1681473319343345"
      ]
     },
     "execution_count": 28,
     "metadata": {},
     "output_type": "execute_result"
    }
   ],
   "source": [
    "test.statistic"
   ]
  },
  {
   "cell_type": "code",
   "execution_count": 29,
   "id": "e2eee8b7",
   "metadata": {},
   "outputs": [
    {
     "data": {
      "text/plain": [
       "2.593228732352821e-06"
      ]
     },
     "execution_count": 29,
     "metadata": {},
     "output_type": "execute_result"
    }
   ],
   "source": [
    "test.pvalue"
   ]
  },
  {
   "cell_type": "code",
   "execution_count": 38,
   "id": "25e4ce4f",
   "metadata": {},
   "outputs": [
    {
     "data": {
      "text/plain": [
       "'0.00000259'"
      ]
     },
     "execution_count": 38,
     "metadata": {},
     "output_type": "execute_result"
    }
   ],
   "source": [
    "output = \"{:.8f}\".format(test.pvalue)\n",
    "output"
   ]
  },
  {
   "cell_type": "code",
   "execution_count": 31,
   "id": "1b684621",
   "metadata": {},
   "outputs": [
    {
     "name": "stdout",
     "output_type": "stream",
     "text": [
      "REJECT Null Hypothesis\n"
     ]
    }
   ],
   "source": [
    "if test.pvalue<0.01:\n",
    "    print(\"REJECT Null Hypothesis\")\n",
    "else:\n",
    "    print(\"DO NOT REJECT Null Hypothesis\")"
   ]
  },
  {
   "cell_type": "raw",
   "id": "0ff490cc",
   "metadata": {},
   "source": [
    "p value = 2.59e\n",
    "α = 0.01\n",
    "p value > α\n",
    "REJECT H0. We have sufficient evidence to say that floors differ from each other!"
   ]
  },
  {
   "cell_type": "markdown",
   "id": "1e8bf7ee",
   "metadata": {},
   "source": [
    "EXERCISE 3. The following dataset is based on data provided by the World Bank (https://datacatalog.worldbank.org/dataset/education-statistics). World Bank Edstats.  2015 PISA Test Dataset\n",
    "\n",
    "1.Get descriptive statistics (the central tendency, dispersion and shape of a dataset’s distribution) for each continent group (AS, EU, AF, NA, SA, OC).\n",
    "\n",
    "2.Determine whether there is any difference (on the average) for the math scores among European (EU) and Asian (AS) countries (assume normality and equal variances). Draw side-by-side box plots.\n",
    "\n",
    "CHECK: statistic=0.870055317967983, pvalue=0.38826888111307345"
   ]
  },
  {
   "cell_type": "code",
   "execution_count": 40,
   "id": "24e820ac",
   "metadata": {},
   "outputs": [],
   "source": [
    "df = pd.read_csv(\"data.csv\", sep=\",\", index_col = 0)"
   ]
  },
  {
   "cell_type": "code",
   "execution_count": 41,
   "id": "697f8848",
   "metadata": {},
   "outputs": [
    {
     "data": {
      "text/html": [
       "<div>\n",
       "<style scoped>\n",
       "    .dataframe tbody tr th:only-of-type {\n",
       "        vertical-align: middle;\n",
       "    }\n",
       "\n",
       "    .dataframe tbody tr th {\n",
       "        vertical-align: top;\n",
       "    }\n",
       "\n",
       "    .dataframe thead th {\n",
       "        text-align: right;\n",
       "    }\n",
       "</style>\n",
       "<table border=\"1\" class=\"dataframe\">\n",
       "  <thead>\n",
       "    <tr style=\"text-align: right;\">\n",
       "      <th></th>\n",
       "      <th>Continent_Code</th>\n",
       "      <th>internet_users_per_100</th>\n",
       "      <th>Math</th>\n",
       "      <th>Reading</th>\n",
       "      <th>Science</th>\n",
       "    </tr>\n",
       "    <tr>\n",
       "      <th>Country Code</th>\n",
       "      <th></th>\n",
       "      <th></th>\n",
       "      <th></th>\n",
       "      <th></th>\n",
       "      <th></th>\n",
       "    </tr>\n",
       "  </thead>\n",
       "  <tbody>\n",
       "    <tr>\n",
       "      <th>ALB</th>\n",
       "      <td>EU</td>\n",
       "      <td>63.252933</td>\n",
       "      <td>413.1570</td>\n",
       "      <td>405.2588</td>\n",
       "      <td>427.2250</td>\n",
       "    </tr>\n",
       "    <tr>\n",
       "      <th>ARE</th>\n",
       "      <td>AS</td>\n",
       "      <td>90.500000</td>\n",
       "      <td>427.4827</td>\n",
       "      <td>433.5423</td>\n",
       "      <td>436.7311</td>\n",
       "    </tr>\n",
       "    <tr>\n",
       "      <th>ARG</th>\n",
       "      <td>SA</td>\n",
       "      <td>68.043064</td>\n",
       "      <td>409.0333</td>\n",
       "      <td>425.3031</td>\n",
       "      <td>432.2262</td>\n",
       "    </tr>\n",
       "    <tr>\n",
       "      <th>AUS</th>\n",
       "      <td>OC</td>\n",
       "      <td>84.560519</td>\n",
       "      <td>493.8962</td>\n",
       "      <td>502.9006</td>\n",
       "      <td>509.9939</td>\n",
       "    </tr>\n",
       "    <tr>\n",
       "      <th>AUT</th>\n",
       "      <td>EU</td>\n",
       "      <td>83.940142</td>\n",
       "      <td>496.7423</td>\n",
       "      <td>484.8656</td>\n",
       "      <td>495.0375</td>\n",
       "    </tr>\n",
       "    <tr>\n",
       "      <th>...</th>\n",
       "      <td>...</td>\n",
       "      <td>...</td>\n",
       "      <td>...</td>\n",
       "      <td>...</td>\n",
       "      <td>...</td>\n",
       "    </tr>\n",
       "    <tr>\n",
       "      <th>TUN</th>\n",
       "      <td>AF</td>\n",
       "      <td>48.519836</td>\n",
       "      <td>366.8180</td>\n",
       "      <td>361.0555</td>\n",
       "      <td>386.4034</td>\n",
       "    </tr>\n",
       "    <tr>\n",
       "      <th>TUR</th>\n",
       "      <td>EU</td>\n",
       "      <td>53.744979</td>\n",
       "      <td>420.4540</td>\n",
       "      <td>428.3351</td>\n",
       "      <td>425.4895</td>\n",
       "    </tr>\n",
       "    <tr>\n",
       "      <th>URY</th>\n",
       "      <td>SA</td>\n",
       "      <td>64.600000</td>\n",
       "      <td>417.9919</td>\n",
       "      <td>436.5721</td>\n",
       "      <td>435.3630</td>\n",
       "    </tr>\n",
       "    <tr>\n",
       "      <th>USA</th>\n",
       "      <td>NaN</td>\n",
       "      <td>74.554202</td>\n",
       "      <td>469.6285</td>\n",
       "      <td>496.9351</td>\n",
       "      <td>496.2424</td>\n",
       "    </tr>\n",
       "    <tr>\n",
       "      <th>VNM</th>\n",
       "      <td>AS</td>\n",
       "      <td>43.500000</td>\n",
       "      <td>494.5183</td>\n",
       "      <td>486.7738</td>\n",
       "      <td>524.6445</td>\n",
       "    </tr>\n",
       "  </tbody>\n",
       "</table>\n",
       "<p>70 rows × 5 columns</p>\n",
       "</div>"
      ],
      "text/plain": [
       "             Continent_Code  internet_users_per_100      Math   Reading  \\\n",
       "Country Code                                                              \n",
       "ALB                      EU               63.252933  413.1570  405.2588   \n",
       "ARE                      AS               90.500000  427.4827  433.5423   \n",
       "ARG                      SA               68.043064  409.0333  425.3031   \n",
       "AUS                      OC               84.560519  493.8962  502.9006   \n",
       "AUT                      EU               83.940142  496.7423  484.8656   \n",
       "...                     ...                     ...       ...       ...   \n",
       "TUN                      AF               48.519836  366.8180  361.0555   \n",
       "TUR                      EU               53.744979  420.4540  428.3351   \n",
       "URY                      SA               64.600000  417.9919  436.5721   \n",
       "USA                     NaN               74.554202  469.6285  496.9351   \n",
       "VNM                      AS               43.500000  494.5183  486.7738   \n",
       "\n",
       "               Science  \n",
       "Country Code            \n",
       "ALB           427.2250  \n",
       "ARE           436.7311  \n",
       "ARG           432.2262  \n",
       "AUS           509.9939  \n",
       "AUT           495.0375  \n",
       "...                ...  \n",
       "TUN           386.4034  \n",
       "TUR           425.4895  \n",
       "URY           435.3630  \n",
       "USA           496.2424  \n",
       "VNM           524.6445  \n",
       "\n",
       "[70 rows x 5 columns]"
      ]
     },
     "execution_count": 41,
     "metadata": {},
     "output_type": "execute_result"
    }
   ],
   "source": [
    "df "
   ]
  },
  {
   "cell_type": "code",
   "execution_count": 42,
   "id": "804108f9",
   "metadata": {},
   "outputs": [
    {
     "data": {
      "text/html": [
       "<div>\n",
       "<style scoped>\n",
       "    .dataframe tbody tr th:only-of-type {\n",
       "        vertical-align: middle;\n",
       "    }\n",
       "\n",
       "    .dataframe tbody tr th {\n",
       "        vertical-align: top;\n",
       "    }\n",
       "\n",
       "    .dataframe thead th {\n",
       "        text-align: right;\n",
       "    }\n",
       "</style>\n",
       "<table border=\"1\" class=\"dataframe\">\n",
       "  <thead>\n",
       "    <tr style=\"text-align: right;\">\n",
       "      <th></th>\n",
       "      <th>Continent_Code</th>\n",
       "      <th>internet_users_per_100</th>\n",
       "      <th>Math</th>\n",
       "      <th>Reading</th>\n",
       "      <th>Science</th>\n",
       "    </tr>\n",
       "    <tr>\n",
       "      <th>Country Code</th>\n",
       "      <th></th>\n",
       "      <th></th>\n",
       "      <th></th>\n",
       "      <th></th>\n",
       "      <th></th>\n",
       "    </tr>\n",
       "  </thead>\n",
       "  <tbody>\n",
       "    <tr>\n",
       "      <th>ALB</th>\n",
       "      <td>EU</td>\n",
       "      <td>63.252933</td>\n",
       "      <td>413.1570</td>\n",
       "      <td>405.2588</td>\n",
       "      <td>427.2250</td>\n",
       "    </tr>\n",
       "    <tr>\n",
       "      <th>ARE</th>\n",
       "      <td>AS</td>\n",
       "      <td>90.500000</td>\n",
       "      <td>427.4827</td>\n",
       "      <td>433.5423</td>\n",
       "      <td>436.7311</td>\n",
       "    </tr>\n",
       "    <tr>\n",
       "      <th>ARG</th>\n",
       "      <td>SA</td>\n",
       "      <td>68.043064</td>\n",
       "      <td>409.0333</td>\n",
       "      <td>425.3031</td>\n",
       "      <td>432.2262</td>\n",
       "    </tr>\n",
       "    <tr>\n",
       "      <th>AUS</th>\n",
       "      <td>OC</td>\n",
       "      <td>84.560519</td>\n",
       "      <td>493.8962</td>\n",
       "      <td>502.9006</td>\n",
       "      <td>509.9939</td>\n",
       "    </tr>\n",
       "    <tr>\n",
       "      <th>AUT</th>\n",
       "      <td>EU</td>\n",
       "      <td>83.940142</td>\n",
       "      <td>496.7423</td>\n",
       "      <td>484.8656</td>\n",
       "      <td>495.0375</td>\n",
       "    </tr>\n",
       "  </tbody>\n",
       "</table>\n",
       "</div>"
      ],
      "text/plain": [
       "             Continent_Code  internet_users_per_100      Math   Reading  \\\n",
       "Country Code                                                              \n",
       "ALB                      EU               63.252933  413.1570  405.2588   \n",
       "ARE                      AS               90.500000  427.4827  433.5423   \n",
       "ARG                      SA               68.043064  409.0333  425.3031   \n",
       "AUS                      OC               84.560519  493.8962  502.9006   \n",
       "AUT                      EU               83.940142  496.7423  484.8656   \n",
       "\n",
       "               Science  \n",
       "Country Code            \n",
       "ALB           427.2250  \n",
       "ARE           436.7311  \n",
       "ARG           432.2262  \n",
       "AUS           509.9939  \n",
       "AUT           495.0375  "
      ]
     },
     "execution_count": 42,
     "metadata": {},
     "output_type": "execute_result"
    }
   ],
   "source": [
    "df.head()"
   ]
  },
  {
   "cell_type": "code",
   "execution_count": 43,
   "id": "0ec9e798",
   "metadata": {},
   "outputs": [
    {
     "name": "stdout",
     "output_type": "stream",
     "text": [
      "<class 'pandas.core.frame.DataFrame'>\n",
      "Index: 70 entries, ALB to VNM\n",
      "Data columns (total 5 columns):\n",
      " #   Column                  Non-Null Count  Dtype  \n",
      "---  ------                  --------------  -----  \n",
      " 0   Continent_Code          65 non-null     object \n",
      " 1   internet_users_per_100  70 non-null     float64\n",
      " 2   Math                    70 non-null     float64\n",
      " 3   Reading                 70 non-null     float64\n",
      " 4   Science                 70 non-null     float64\n",
      "dtypes: float64(4), object(1)\n",
      "memory usage: 3.3+ KB\n"
     ]
    }
   ],
   "source": [
    "df.info()"
   ]
  },
  {
   "cell_type": "code",
   "execution_count": 44,
   "id": "b5eca9fe",
   "metadata": {},
   "outputs": [],
   "source": [
    "#1"
   ]
  },
  {
   "cell_type": "code",
   "execution_count": 45,
   "id": "e5169ff1",
   "metadata": {},
   "outputs": [
    {
     "data": {
      "text/html": [
       "<div>\n",
       "<style scoped>\n",
       "    .dataframe tbody tr th:only-of-type {\n",
       "        vertical-align: middle;\n",
       "    }\n",
       "\n",
       "    .dataframe tbody tr th {\n",
       "        vertical-align: top;\n",
       "    }\n",
       "\n",
       "    .dataframe thead th {\n",
       "        text-align: right;\n",
       "    }\n",
       "</style>\n",
       "<table border=\"1\" class=\"dataframe\">\n",
       "  <thead>\n",
       "    <tr style=\"text-align: right;\">\n",
       "      <th></th>\n",
       "      <th>internet_users_per_100</th>\n",
       "      <th>Math</th>\n",
       "      <th>Reading</th>\n",
       "      <th>Science</th>\n",
       "    </tr>\n",
       "  </thead>\n",
       "  <tbody>\n",
       "    <tr>\n",
       "      <th>count</th>\n",
       "      <td>70.000000</td>\n",
       "      <td>70.000000</td>\n",
       "      <td>70.000000</td>\n",
       "      <td>70.000000</td>\n",
       "    </tr>\n",
       "    <tr>\n",
       "      <th>mean</th>\n",
       "      <td>71.973099</td>\n",
       "      <td>460.971557</td>\n",
       "      <td>460.997291</td>\n",
       "      <td>465.439093</td>\n",
       "    </tr>\n",
       "    <tr>\n",
       "      <th>std</th>\n",
       "      <td>16.390632</td>\n",
       "      <td>53.327205</td>\n",
       "      <td>49.502679</td>\n",
       "      <td>48.397254</td>\n",
       "    </tr>\n",
       "    <tr>\n",
       "      <th>min</th>\n",
       "      <td>21.976068</td>\n",
       "      <td>327.702000</td>\n",
       "      <td>346.549000</td>\n",
       "      <td>331.638800</td>\n",
       "    </tr>\n",
       "    <tr>\n",
       "      <th>25%</th>\n",
       "      <td>60.899020</td>\n",
       "      <td>417.416075</td>\n",
       "      <td>426.948625</td>\n",
       "      <td>425.923375</td>\n",
       "    </tr>\n",
       "    <tr>\n",
       "      <th>50%</th>\n",
       "      <td>72.999350</td>\n",
       "      <td>477.607150</td>\n",
       "      <td>480.199850</td>\n",
       "      <td>475.400050</td>\n",
       "    </tr>\n",
       "    <tr>\n",
       "      <th>75%</th>\n",
       "      <td>85.026763</td>\n",
       "      <td>500.482925</td>\n",
       "      <td>499.687475</td>\n",
       "      <td>502.431250</td>\n",
       "    </tr>\n",
       "    <tr>\n",
       "      <th>max</th>\n",
       "      <td>98.200000</td>\n",
       "      <td>564.189700</td>\n",
       "      <td>535.100200</td>\n",
       "      <td>555.574700</td>\n",
       "    </tr>\n",
       "  </tbody>\n",
       "</table>\n",
       "</div>"
      ],
      "text/plain": [
       "       internet_users_per_100        Math     Reading     Science\n",
       "count               70.000000   70.000000   70.000000   70.000000\n",
       "mean                71.973099  460.971557  460.997291  465.439093\n",
       "std                 16.390632   53.327205   49.502679   48.397254\n",
       "min                 21.976068  327.702000  346.549000  331.638800\n",
       "25%                 60.899020  417.416075  426.948625  425.923375\n",
       "50%                 72.999350  477.607150  480.199850  475.400050\n",
       "75%                 85.026763  500.482925  499.687475  502.431250\n",
       "max                 98.200000  564.189700  535.100200  555.574700"
      ]
     },
     "execution_count": 45,
     "metadata": {},
     "output_type": "execute_result"
    }
   ],
   "source": [
    "df.describe()"
   ]
  },
  {
   "cell_type": "code",
   "execution_count": 46,
   "id": "3ca80386",
   "metadata": {},
   "outputs": [
    {
     "data": {
      "text/plain": [
       "(70, 5)"
      ]
     },
     "execution_count": 46,
     "metadata": {},
     "output_type": "execute_result"
    }
   ],
   "source": [
    "df.shape"
   ]
  },
  {
   "cell_type": "code",
   "execution_count": 47,
   "id": "2d91084d",
   "metadata": {},
   "outputs": [
    {
     "data": {
      "text/plain": [
       "EU    37\n",
       "AS    17\n",
       "SA     7\n",
       "OC     2\n",
       "AF     2\n",
       "Name: Continent_Code, dtype: int64"
      ]
     },
     "execution_count": 47,
     "metadata": {},
     "output_type": "execute_result"
    }
   ],
   "source": [
    "df.Continent_Code.value_counts()"
   ]
  },
  {
   "cell_type": "code",
   "execution_count": 48,
   "id": "0187939c",
   "metadata": {},
   "outputs": [
    {
     "data": {
      "text/plain": [
       "0    EU\n",
       "dtype: object"
      ]
     },
     "execution_count": 48,
     "metadata": {},
     "output_type": "execute_result"
    }
   ],
   "source": [
    "df.Continent_Code.mode()"
   ]
  },
  {
   "cell_type": "code",
   "execution_count": 49,
   "id": "12ff848a",
   "metadata": {},
   "outputs": [
    {
     "data": {
      "text/html": [
       "<div>\n",
       "<style scoped>\n",
       "    .dataframe tbody tr th:only-of-type {\n",
       "        vertical-align: middle;\n",
       "    }\n",
       "\n",
       "    .dataframe tbody tr th {\n",
       "        vertical-align: top;\n",
       "    }\n",
       "\n",
       "    .dataframe thead th {\n",
       "        text-align: right;\n",
       "    }\n",
       "</style>\n",
       "<table border=\"1\" class=\"dataframe\">\n",
       "  <thead>\n",
       "    <tr style=\"text-align: right;\">\n",
       "      <th></th>\n",
       "      <th>mean</th>\n",
       "      <th>median</th>\n",
       "      <th>max</th>\n",
       "      <th>min</th>\n",
       "      <th>std</th>\n",
       "      <th>var</th>\n",
       "    </tr>\n",
       "    <tr>\n",
       "      <th>Continent_Code</th>\n",
       "      <th></th>\n",
       "      <th></th>\n",
       "      <th></th>\n",
       "      <th></th>\n",
       "      <th></th>\n",
       "      <th></th>\n",
       "    </tr>\n",
       "  </thead>\n",
       "  <tbody>\n",
       "    <tr>\n",
       "      <th>AF</th>\n",
       "      <td>43.359918</td>\n",
       "      <td>43.359918</td>\n",
       "      <td>48.519836</td>\n",
       "      <td>38.200000</td>\n",
       "      <td>7.297226</td>\n",
       "      <td>53.249507</td>\n",
       "    </tr>\n",
       "    <tr>\n",
       "      <th>AS</th>\n",
       "      <td>68.455613</td>\n",
       "      <td>74.000000</td>\n",
       "      <td>92.884826</td>\n",
       "      <td>21.976068</td>\n",
       "      <td>21.086060</td>\n",
       "      <td>444.621918</td>\n",
       "    </tr>\n",
       "    <tr>\n",
       "      <th>EU</th>\n",
       "      <td>77.274888</td>\n",
       "      <td>76.184000</td>\n",
       "      <td>98.200000</td>\n",
       "      <td>53.744979</td>\n",
       "      <td>12.425773</td>\n",
       "      <td>154.399841</td>\n",
       "    </tr>\n",
       "    <tr>\n",
       "      <th>OC</th>\n",
       "      <td>86.391704</td>\n",
       "      <td>86.391704</td>\n",
       "      <td>88.222889</td>\n",
       "      <td>84.560519</td>\n",
       "      <td>2.589686</td>\n",
       "      <td>6.706475</td>\n",
       "    </tr>\n",
       "    <tr>\n",
       "      <th>SA</th>\n",
       "      <td>60.180494</td>\n",
       "      <td>64.289000</td>\n",
       "      <td>69.198471</td>\n",
       "      <td>40.900000</td>\n",
       "      <td>9.772455</td>\n",
       "      <td>95.500869</td>\n",
       "    </tr>\n",
       "  </tbody>\n",
       "</table>\n",
       "</div>"
      ],
      "text/plain": [
       "                     mean     median        max        min        std  \\\n",
       "Continent_Code                                                          \n",
       "AF              43.359918  43.359918  48.519836  38.200000   7.297226   \n",
       "AS              68.455613  74.000000  92.884826  21.976068  21.086060   \n",
       "EU              77.274888  76.184000  98.200000  53.744979  12.425773   \n",
       "OC              86.391704  86.391704  88.222889  84.560519   2.589686   \n",
       "SA              60.180494  64.289000  69.198471  40.900000   9.772455   \n",
       "\n",
       "                       var  \n",
       "Continent_Code              \n",
       "AF               53.249507  \n",
       "AS              444.621918  \n",
       "EU              154.399841  \n",
       "OC                6.706475  \n",
       "SA               95.500869  "
      ]
     },
     "execution_count": 49,
     "metadata": {},
     "output_type": "execute_result"
    }
   ],
   "source": [
    "df.groupby([\"Continent_Code\"]).agg([np.mean, np.median, max, min, np.std, np.var]).internet_users_per_100"
   ]
  },
  {
   "cell_type": "code",
   "execution_count": 50,
   "id": "abdfb500",
   "metadata": {},
   "outputs": [
    {
     "data": {
      "text/html": [
       "<div>\n",
       "<style scoped>\n",
       "    .dataframe tbody tr th:only-of-type {\n",
       "        vertical-align: middle;\n",
       "    }\n",
       "\n",
       "    .dataframe tbody tr th {\n",
       "        vertical-align: top;\n",
       "    }\n",
       "\n",
       "    .dataframe thead th {\n",
       "        text-align: right;\n",
       "    }\n",
       "</style>\n",
       "<table border=\"1\" class=\"dataframe\">\n",
       "  <thead>\n",
       "    <tr style=\"text-align: right;\">\n",
       "      <th></th>\n",
       "      <th>mean</th>\n",
       "      <th>median</th>\n",
       "      <th>max</th>\n",
       "      <th>min</th>\n",
       "      <th>std</th>\n",
       "      <th>var</th>\n",
       "    </tr>\n",
       "    <tr>\n",
       "      <th>Continent_Code</th>\n",
       "      <th></th>\n",
       "      <th></th>\n",
       "      <th></th>\n",
       "      <th></th>\n",
       "      <th></th>\n",
       "      <th></th>\n",
       "    </tr>\n",
       "  </thead>\n",
       "  <tbody>\n",
       "    <tr>\n",
       "      <th>AF</th>\n",
       "      <td>363.212100</td>\n",
       "      <td>363.21210</td>\n",
       "      <td>366.8180</td>\n",
       "      <td>359.6062</td>\n",
       "      <td>5.099513</td>\n",
       "      <td>26.005030</td>\n",
       "    </tr>\n",
       "    <tr>\n",
       "      <th>AS</th>\n",
       "      <td>466.216647</td>\n",
       "      <td>459.81600</td>\n",
       "      <td>564.1897</td>\n",
       "      <td>380.2590</td>\n",
       "      <td>64.356490</td>\n",
       "      <td>4141.757822</td>\n",
       "    </tr>\n",
       "    <tr>\n",
       "      <th>EU</th>\n",
       "      <td>477.981449</td>\n",
       "      <td>489.72870</td>\n",
       "      <td>521.2506</td>\n",
       "      <td>371.3114</td>\n",
       "      <td>35.150403</td>\n",
       "      <td>1235.550805</td>\n",
       "    </tr>\n",
       "    <tr>\n",
       "      <th>OC</th>\n",
       "      <td>494.559750</td>\n",
       "      <td>494.55975</td>\n",
       "      <td>495.2233</td>\n",
       "      <td>493.8962</td>\n",
       "      <td>0.938401</td>\n",
       "      <td>0.880597</td>\n",
       "    </tr>\n",
       "    <tr>\n",
       "      <th>SA</th>\n",
       "      <td>402.887700</td>\n",
       "      <td>409.03330</td>\n",
       "      <td>422.6714</td>\n",
       "      <td>377.0695</td>\n",
       "      <td>18.128894</td>\n",
       "      <td>328.656783</td>\n",
       "    </tr>\n",
       "  </tbody>\n",
       "</table>\n",
       "</div>"
      ],
      "text/plain": [
       "                      mean     median       max       min        std  \\\n",
       "Continent_Code                                                         \n",
       "AF              363.212100  363.21210  366.8180  359.6062   5.099513   \n",
       "AS              466.216647  459.81600  564.1897  380.2590  64.356490   \n",
       "EU              477.981449  489.72870  521.2506  371.3114  35.150403   \n",
       "OC              494.559750  494.55975  495.2233  493.8962   0.938401   \n",
       "SA              402.887700  409.03330  422.6714  377.0695  18.128894   \n",
       "\n",
       "                        var  \n",
       "Continent_Code               \n",
       "AF                26.005030  \n",
       "AS              4141.757822  \n",
       "EU              1235.550805  \n",
       "OC                 0.880597  \n",
       "SA               328.656783  "
      ]
     },
     "execution_count": 50,
     "metadata": {},
     "output_type": "execute_result"
    }
   ],
   "source": [
    "df.groupby([\"Continent_Code\"]).agg([np.mean, np.median, max, min, np.std, np.var]).Math"
   ]
  },
  {
   "cell_type": "code",
   "execution_count": 51,
   "id": "1afd141b",
   "metadata": {},
   "outputs": [
    {
     "data": {
      "text/html": [
       "<div>\n",
       "<style scoped>\n",
       "    .dataframe tbody tr th:only-of-type {\n",
       "        vertical-align: middle;\n",
       "    }\n",
       "\n",
       "    .dataframe tbody tr th {\n",
       "        vertical-align: top;\n",
       "    }\n",
       "\n",
       "    .dataframe thead th {\n",
       "        text-align: right;\n",
       "    }\n",
       "</style>\n",
       "<table border=\"1\" class=\"dataframe\">\n",
       "  <thead>\n",
       "    <tr style=\"text-align: right;\">\n",
       "      <th></th>\n",
       "      <th>mean</th>\n",
       "      <th>median</th>\n",
       "      <th>max</th>\n",
       "      <th>min</th>\n",
       "      <th>std</th>\n",
       "      <th>var</th>\n",
       "    </tr>\n",
       "    <tr>\n",
       "      <th>Continent_Code</th>\n",
       "      <th></th>\n",
       "      <th></th>\n",
       "      <th></th>\n",
       "      <th></th>\n",
       "      <th></th>\n",
       "      <th></th>\n",
       "    </tr>\n",
       "  </thead>\n",
       "  <tbody>\n",
       "    <tr>\n",
       "      <th>AF</th>\n",
       "      <td>355.457400</td>\n",
       "      <td>355.45740</td>\n",
       "      <td>361.0555</td>\n",
       "      <td>349.8593</td>\n",
       "      <td>7.916909</td>\n",
       "      <td>62.677447</td>\n",
       "    </tr>\n",
       "    <tr>\n",
       "      <th>AS</th>\n",
       "      <td>454.059682</td>\n",
       "      <td>433.54230</td>\n",
       "      <td>535.1002</td>\n",
       "      <td>346.5490</td>\n",
       "      <td>57.048962</td>\n",
       "      <td>3254.584049</td>\n",
       "    </tr>\n",
       "    <tr>\n",
       "      <th>EU</th>\n",
       "      <td>476.164608</td>\n",
       "      <td>487.25010</td>\n",
       "      <td>526.4247</td>\n",
       "      <td>351.7415</td>\n",
       "      <td>37.720545</td>\n",
       "      <td>1422.839540</td>\n",
       "    </tr>\n",
       "    <tr>\n",
       "      <th>OC</th>\n",
       "      <td>506.085650</td>\n",
       "      <td>506.08565</td>\n",
       "      <td>509.2707</td>\n",
       "      <td>502.9006</td>\n",
       "      <td>4.504341</td>\n",
       "      <td>20.289087</td>\n",
       "    </tr>\n",
       "    <tr>\n",
       "      <th>SA</th>\n",
       "      <td>425.359229</td>\n",
       "      <td>425.30310</td>\n",
       "      <td>458.5709</td>\n",
       "      <td>397.5414</td>\n",
       "      <td>19.709688</td>\n",
       "      <td>388.471816</td>\n",
       "    </tr>\n",
       "  </tbody>\n",
       "</table>\n",
       "</div>"
      ],
      "text/plain": [
       "                      mean     median       max       min        std  \\\n",
       "Continent_Code                                                         \n",
       "AF              355.457400  355.45740  361.0555  349.8593   7.916909   \n",
       "AS              454.059682  433.54230  535.1002  346.5490  57.048962   \n",
       "EU              476.164608  487.25010  526.4247  351.7415  37.720545   \n",
       "OC              506.085650  506.08565  509.2707  502.9006   4.504341   \n",
       "SA              425.359229  425.30310  458.5709  397.5414  19.709688   \n",
       "\n",
       "                        var  \n",
       "Continent_Code               \n",
       "AF                62.677447  \n",
       "AS              3254.584049  \n",
       "EU              1422.839540  \n",
       "OC                20.289087  \n",
       "SA               388.471816  "
      ]
     },
     "execution_count": 51,
     "metadata": {},
     "output_type": "execute_result"
    }
   ],
   "source": [
    "df.groupby([\"Continent_Code\"]).agg([np.mean, np.median, max, min, np.std, np.var]).Reading"
   ]
  },
  {
   "cell_type": "code",
   "execution_count": 52,
   "id": "32f4927c",
   "metadata": {},
   "outputs": [
    {
     "data": {
      "text/html": [
       "<div>\n",
       "<style scoped>\n",
       "    .dataframe tbody tr th:only-of-type {\n",
       "        vertical-align: middle;\n",
       "    }\n",
       "\n",
       "    .dataframe tbody tr th {\n",
       "        vertical-align: top;\n",
       "    }\n",
       "\n",
       "    .dataframe thead th {\n",
       "        text-align: right;\n",
       "    }\n",
       "</style>\n",
       "<table border=\"1\" class=\"dataframe\">\n",
       "  <thead>\n",
       "    <tr style=\"text-align: right;\">\n",
       "      <th></th>\n",
       "      <th>mean</th>\n",
       "      <th>median</th>\n",
       "      <th>max</th>\n",
       "      <th>min</th>\n",
       "      <th>std</th>\n",
       "      <th>var</th>\n",
       "    </tr>\n",
       "    <tr>\n",
       "      <th>Continent_Code</th>\n",
       "      <th></th>\n",
       "      <th></th>\n",
       "      <th></th>\n",
       "      <th></th>\n",
       "      <th></th>\n",
       "      <th></th>\n",
       "    </tr>\n",
       "  </thead>\n",
       "  <tbody>\n",
       "    <tr>\n",
       "      <th>AF</th>\n",
       "      <td>381.074250</td>\n",
       "      <td>381.07425</td>\n",
       "      <td>386.4034</td>\n",
       "      <td>375.7451</td>\n",
       "      <td>7.536556</td>\n",
       "      <td>56.799679</td>\n",
       "    </tr>\n",
       "    <tr>\n",
       "      <th>AS</th>\n",
       "      <td>467.945847</td>\n",
       "      <td>456.48360</td>\n",
       "      <td>555.5747</td>\n",
       "      <td>386.4854</td>\n",
       "      <td>56.671371</td>\n",
       "      <td>3211.644321</td>\n",
       "    </tr>\n",
       "    <tr>\n",
       "      <th>EU</th>\n",
       "      <td>478.299381</td>\n",
       "      <td>490.22500</td>\n",
       "      <td>534.1937</td>\n",
       "      <td>383.6824</td>\n",
       "      <td>34.450616</td>\n",
       "      <td>1186.844969</td>\n",
       "    </tr>\n",
       "    <tr>\n",
       "      <th>OC</th>\n",
       "      <td>511.648700</td>\n",
       "      <td>511.64870</td>\n",
       "      <td>513.3035</td>\n",
       "      <td>509.9939</td>\n",
       "      <td>2.340241</td>\n",
       "      <td>5.476726</td>\n",
       "    </tr>\n",
       "    <tr>\n",
       "      <th>SA</th>\n",
       "      <td>421.747186</td>\n",
       "      <td>424.59050</td>\n",
       "      <td>446.9561</td>\n",
       "      <td>396.6836</td>\n",
       "      <td>18.470319</td>\n",
       "      <td>341.152678</td>\n",
       "    </tr>\n",
       "  </tbody>\n",
       "</table>\n",
       "</div>"
      ],
      "text/plain": [
       "                      mean     median       max       min        std  \\\n",
       "Continent_Code                                                         \n",
       "AF              381.074250  381.07425  386.4034  375.7451   7.536556   \n",
       "AS              467.945847  456.48360  555.5747  386.4854  56.671371   \n",
       "EU              478.299381  490.22500  534.1937  383.6824  34.450616   \n",
       "OC              511.648700  511.64870  513.3035  509.9939   2.340241   \n",
       "SA              421.747186  424.59050  446.9561  396.6836  18.470319   \n",
       "\n",
       "                        var  \n",
       "Continent_Code               \n",
       "AF                56.799679  \n",
       "AS              3211.644321  \n",
       "EU              1186.844969  \n",
       "OC                 5.476726  \n",
       "SA               341.152678  "
      ]
     },
     "execution_count": 52,
     "metadata": {},
     "output_type": "execute_result"
    }
   ],
   "source": [
    "df.groupby([\"Continent_Code\"]).agg([np.mean, np.median, max, min, np.std, np.var]).Science"
   ]
  },
  {
   "cell_type": "code",
   "execution_count": 53,
   "id": "68636503",
   "metadata": {},
   "outputs": [],
   "source": [
    "#2"
   ]
  },
  {
   "cell_type": "raw",
   "id": "547f39bf",
   "metadata": {},
   "source": [
    "H0: μEU = μAS (There is not any difference)\n",
    "H1: μEU ≠ μAS (There is difference) (Two-Tailed Test)"
   ]
  },
  {
   "cell_type": "code",
   "execution_count": 54,
   "id": "30f35c82",
   "metadata": {},
   "outputs": [],
   "source": [
    "group1 = df.loc[df[\"Continent_Code\"] == \"AS\"].Math\n",
    "group2 = df.loc[df[\"Continent_Code\"] == \"EU\"].Math"
   ]
  },
  {
   "cell_type": "code",
   "execution_count": 55,
   "id": "b403f473",
   "metadata": {},
   "outputs": [
    {
     "data": {
      "text/plain": [
       "Ttest_indResult(statistic=-0.870055317967983, pvalue=0.38826888111307345)"
      ]
     },
     "execution_count": 55,
     "metadata": {},
     "output_type": "execute_result"
    }
   ],
   "source": [
    "two_sample = stats.ttest_ind(a=group1, b=group2, equal_var=True)\n",
    "two_sample"
   ]
  },
  {
   "cell_type": "code",
   "execution_count": 56,
   "id": "930ccdab",
   "metadata": {},
   "outputs": [
    {
     "data": {
      "text/plain": [
       "0.38826888111307345"
      ]
     },
     "execution_count": 56,
     "metadata": {},
     "output_type": "execute_result"
    }
   ],
   "source": [
    "p_value = two_sample.pvalue\n",
    "p_value"
   ]
  },
  {
   "cell_type": "code",
   "execution_count": 57,
   "id": "4adc5caa",
   "metadata": {},
   "outputs": [
    {
     "name": "stdout",
     "output_type": "stream",
     "text": [
      "Do not reject the null\n"
     ]
    }
   ],
   "source": [
    "alpha = 0.05\n",
    "\n",
    "if p_value < alpha:\n",
    "    print(\"Reject the null\")\n",
    "else:\n",
    "    print(\"Do not reject the null\")"
   ]
  },
  {
   "cell_type": "raw",
   "id": "641e1890",
   "metadata": {},
   "source": [
    "Because the p-value of our test (0.38) is greater than α = 0.05, we fail to reject the null hypothesis of the test. We do not have sufficient evidence to say that the Mathematical mean of AS and the Mathematical mean of EU are different."
   ]
  },
  {
   "cell_type": "code",
   "execution_count": 58,
   "id": "922ac771",
   "metadata": {},
   "outputs": [
    {
     "data": {
      "image/png": "[encoded data removed]",
      "text/plain": [
       "<Figure size 576x432 with 1 Axes>"
      ]
     },
     "metadata": {
      "needs_background": "light"
     },
     "output_type": "display_data"
    }
   ],
   "source": [
    "plt.figure(figsize=(8,6))\n",
    "sns.boxplot(x=\"Continent_Code\", y=\"Math\", data=df);"
   ]
  },
  {
   "cell_type": "code",
   "execution_count": null,
   "id": "5d3471b7",
   "metadata": {},
   "outputs": [],
   "source": []
  }
 ],
 "metadata": {
  "kernelspec": {
   "display_name": "Python 3 (ipykernel)",
   "language": "python",
   "name": "python3"
  },
  "language_info": {
   "codemirror_mode": {
    "name": "ipython",
    "version": 3
   },
   "file_extension": ".py",
   "mimetype": "text/x-python",
   "name": "python",
   "nbconvert_exporter": "python",
   "pygments_lexer": "ipython3",
   "version": "3.9.7"
  }
 },
 "nbformat": 4,
 "nbformat_minor": 5
}
